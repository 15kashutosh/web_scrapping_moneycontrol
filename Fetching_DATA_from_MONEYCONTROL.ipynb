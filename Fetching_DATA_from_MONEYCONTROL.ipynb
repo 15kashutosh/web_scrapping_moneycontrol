{
 "cells": [
  {
   "cell_type": "code",
   "execution_count": 127,
   "metadata": {},
   "outputs": [],
   "source": [
    "import requests\n",
    "import bs4"
   ]
  },
  {
   "cell_type": "code",
   "execution_count": 128,
   "metadata": {},
   "outputs": [],
   "source": [
    "data = requests.get('https://www.moneycontrol.com/markets/indian-indices/top-nse-500-companies-list/7?classic=true')"
   ]
  },
  {
   "cell_type": "code",
   "execution_count": 129,
   "metadata": {},
   "outputs": [],
   "source": [
    "soup = bs4.BeautifulSoup(data.text,'lxml')"
   ]
  },
  {
   "cell_type": "code",
   "execution_count": 130,
   "metadata": {},
   "outputs": [],
   "source": [
    "#soup"
   ]
  },
  {
   "cell_type": "code",
   "execution_count": 131,
   "metadata": {},
   "outputs": [],
   "source": [
    "Company = []\n",
    "for i in soup.select('.responsive')[0].findAll('a'):\n",
    "    Company.append(i.text)\n",
    "len(soup.select('.responsive')[0].find_all('a'))\n",
    "\n",
    "LTP = []\n",
    "for i in soup.select('.responsive')[0].findAll('td')[1::8]:\n",
    "    LTP.append(i.text)\n",
    "\n",
    "Percentage_change = []\n",
    "for i in soup.select('.responsive')[0].findAll('td')[2::8]:\n",
    "    Percentage_change.append(i.text)\n",
    "\n",
    "Volume = []\n",
    "for i in soup.select('.responsive')[0].findAll('td')[3::8]:\n",
    "    Volume.append(i.text)"
   ]
  },
  {
   "cell_type": "code",
   "execution_count": null,
   "metadata": {},
   "outputs": [],
   "source": []
  },
  {
   "cell_type": "code",
   "execution_count": 132,
   "metadata": {},
   "outputs": [],
   "source": [
    "d = {'Company':Company,\n",
    "    'LTP':LTP,\n",
    "    'Percentage Change':Percentage_change,\n",
    "    'Volume':Volume}"
   ]
  },
  {
   "cell_type": "code",
   "execution_count": 133,
   "metadata": {},
   "outputs": [],
   "source": [
    "#user input for checking stock price:"
   ]
  },
  {
   "cell_type": "code",
   "execution_count": 177,
   "metadata": {},
   "outputs": [],
   "source": [
    "def stock_input():\n",
    "    stock_name = input(\"Enter the Company's name: \")\n",
    "    while stock_name.isalnum() ==False and ' ' not in stock_name:\n",
    "        stock_name = input(\"Enter the Company's name: \")\n",
    "\n",
    "    stock_price = input(\"Enter the Company's price: \")\n",
    "    while stock_price.isdigit() == False:\n",
    "        stock_price = input(\"Enter the Company's price: \")\n",
    "    return stock_name,int(stock_price)"
   ]
  },
  {
   "cell_type": "code",
   "execution_count": 178,
   "metadata": {},
   "outputs": [],
   "source": [
    "#stock_input comparison with the current market details:"
   ]
  },
  {
   "cell_type": "code",
   "execution_count": 179,
   "metadata": {},
   "outputs": [],
   "source": [
    "def stock_comparision(stock_name,stock_price):\n",
    "    print(stock_name,stock_price)\n",
    "    result = Company.index(stock_name)\n",
    "    #print(result)\n",
    "    if ',' in LTP[result]:\n",
    "        market_price = float(LTP[result].replace(',',''))\n",
    "    else:\n",
    "        market_price = float(LTP[result])\n",
    "    if stock_name in Company:\n",
    "        if stock_price>market_price:\n",
    "            print(f\"Time to buy {stock_name}\")\n",
    "            print(f\"{stock_name}'s  Last Traded Price : {LTP[result]}\")\n",
    "            print(f'{stock_name}\\'s traded volume till now: {Volume[result]}')\n",
    "        else:\n",
    "            print(\"Price criteria not satisfied\")\n",
    "    else:\n",
    "        print(\"Invalid input, please try again\")"
   ]
  },
  {
   "cell_type": "code",
   "execution_count": 180,
   "metadata": {},
   "outputs": [],
   "source": [
    "#Function call for stock comparision and dispalying results:"
   ]
  },
  {
   "cell_type": "code",
   "execution_count": 182,
   "metadata": {},
   "outputs": [
    {
     "name": "stdout",
     "output_type": "stream",
     "text": [
      "Enter the Company's name: Motherson Sumi\n",
      "Enter the Company's price: 320\n",
      "Motherson Sumi 320\n",
      "Time to buy Motherson Sumi\n",
      "Motherson Sumi's  Last Traded Price : 244.65\n",
      "Motherson Sumi's traded volume till now: 11577290\n"
     ]
    }
   ],
   "source": [
    "stock_name,stock_price = stock_input()\n",
    "stock_comparision(stock_name,stock_price)"
   ]
  },
  {
   "cell_type": "code",
   "execution_count": null,
   "metadata": {},
   "outputs": [],
   "source": []
  },
  {
   "cell_type": "code",
   "execution_count": null,
   "metadata": {},
   "outputs": [],
   "source": []
  },
  {
   "cell_type": "code",
   "execution_count": null,
   "metadata": {},
   "outputs": [],
   "source": []
  },
  {
   "cell_type": "code",
   "execution_count": 146,
   "metadata": {},
   "outputs": [],
   "source": []
  },
  {
   "cell_type": "code",
   "execution_count": null,
   "metadata": {},
   "outputs": [],
   "source": []
  },
  {
   "cell_type": "code",
   "execution_count": null,
   "metadata": {},
   "outputs": [],
   "source": []
  },
  {
   "cell_type": "code",
   "execution_count": null,
   "metadata": {},
   "outputs": [],
   "source": []
  }
 ],
 "metadata": {
  "kernelspec": {
   "display_name": "Python 3",
   "language": "python",
   "name": "python3"
  },
  "language_info": {
   "codemirror_mode": {
    "name": "ipython",
    "version": 3
   },
   "file_extension": ".py",
   "mimetype": "text/x-python",
   "name": "python",
   "nbconvert_exporter": "python",
   "pygments_lexer": "ipython3",
   "version": "3.7.4"
  }
 },
 "nbformat": 4,
 "nbformat_minor": 2
}
